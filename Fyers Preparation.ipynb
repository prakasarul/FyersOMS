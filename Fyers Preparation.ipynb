{
 "cells": [
  {
   "cell_type": "markdown",
   "metadata": {},
   "source": [
    "### Telegram Bot Infrastructure Library"
   ]
  },
  {
   "cell_type": "code",
   "execution_count": 1,
   "metadata": {},
   "outputs": [],
   "source": [
    "#make sure to update your telegram bot credentials\n",
    "#import telegram_infrastructure library with all the telegram \n",
    "import telegram_infrastructure"
   ]
  },
  {
   "cell_type": "markdown",
   "metadata": {},
   "source": [
    "### Import Relevant Libraries"
   ]
  },
  {
   "cell_type": "code",
   "execution_count": null,
   "metadata": {},
   "outputs": [],
   "source": [
    "#make sure all these libraries are installed\n",
    "#pip install fyers_api\n",
    "#pip install selenium\n",
    "#pip install dataframe-image"
   ]
  },
  {
   "cell_type": "code",
   "execution_count": 6,
   "metadata": {},
   "outputs": [],
   "source": [
    "#import fyers libraries\n",
    "from fyers_api import accessToken\n",
    "from fyers_api import fyersModel\n",
    "\n",
    "#import selenium libbraries for login automation to fetch access_token\n",
    "import selenium\n",
    "from selenium import webdriver\n",
    "\n",
    "#import libraries for normal computations\n",
    "import time\n",
    "import pandas as pd\n",
    "import datetime\n",
    "\n",
    "#import dataframe_image library to export dataframe image\n",
    "import dataframe_image as dfi\n",
    "\n",
    "#libraries for enhancing the aesthetics of pandas dataframe\n",
    "import matplotlib.image as mpimg \n",
    "import matplotlib.pyplot as plt "
   ]
  },
  {
   "cell_type": "markdown",
   "metadata": {},
   "source": [
    "### Log"
   ]
  },
  {
   "cell_type": "code",
   "execution_count": 46,
   "metadata": {},
   "outputs": [],
   "source": [
    "#dataframe to log every step in the OMS\n",
    "logger = pd.DataFrame(columns=['Datetime','Log','Check'])"
   ]
  },
  {
   "cell_type": "markdown",
   "metadata": {},
   "source": [
    "### Setup Fyers API First & Save Credentials"
   ]
  },
  {
   "cell_type": "code",
   "execution_count": 3,
   "metadata": {},
   "outputs": [],
   "source": [
    "#go to https://apidashboard.fyers.in/dashboard\n",
    "#go to create app page\n",
    "#enter a desired name for the api\n",
    "#use 127.0.0.1 as the redirect url\n",
    "#click create app button to generate app_id and app_session"
   ]
  },
  {
   "cell_type": "code",
   "execution_count": 4,
   "metadata": {},
   "outputs": [],
   "source": [
    "#make sure that the app just created is approved"
   ]
  },
  {
   "cell_type": "code",
   "execution_count": 12,
   "metadata": {},
   "outputs": [],
   "source": [
    "#edit yourcredentials in fyers_login_credentials.csv"
   ]
  },
  {
   "cell_type": "code",
   "execution_count": 8,
   "metadata": {},
   "outputs": [],
   "source": [
    "#fetch login credentials from fyers_login_credentials.csv\n",
    "login_credentials = pd.read_csv('fyers_login_credentials.csv').iloc[0]\n",
    "username,password,pan,app_id,secret_id = login_credentials['username'],login_credentials['password'],login_credentials['pan'],login_credentials['app_id'],login_credentials['secret_id']"
   ]
  },
  {
   "cell_type": "markdown",
   "metadata": {},
   "source": [
    "### Welcome to Fyers API"
   ]
  },
  {
   "cell_type": "code",
   "execution_count": 47,
   "metadata": {},
   "outputs": [],
   "source": [
    "try:\n",
    "    #initialize app_id with app id created from Fyers API Dashboard\n",
    "    app_id = app_id\n",
    "    #initialize app_secret with app secret created from Fyers API Dashboard\n",
    "    app_secret = secret_id\n",
    "    #create an app_session object for fyers api\n",
    "    app_session = accessToken.SessionModel(app_id, app_secret)\n",
    "    #authenticate the response\n",
    "    response = app_session.auth()\n",
    "    #generate authorization code\n",
    "    authorization_code = response['data']['authorization_code']\n",
    "    #log if the Authorization Code is Generated\n",
    "    logger.loc[len(logger)] = {'Datetime':(datetime.datetime.now().strftime('%d-%m-%Y %H:%M:%S')),'Log':'Authorization Code Generated','Check':'OK'}\n",
    "except:\n",
    "    #print the error message for Authorization Code Not Generated\n",
    "    print('Response Code Issue')\n",
    "    #log if the Authorization Code is not Generated\n",
    "    logger.loc[len(logger)] = {'Datetime':(datetime.datetime.now().strftime('%d-%m-%Y %H:%M:%S')),'Log':'Authorization Code Not Generated','Check':'NO'}"
   ]
  },
  {
   "cell_type": "code",
   "execution_count": 48,
   "metadata": {},
   "outputs": [],
   "source": [
    "try:\n",
    "    #set token with the authorization_code created earlier\n",
    "    app_session.set_token(authorization_code)\n",
    "    #log if the token is set\n",
    "    logger.loc[len(logger)] = {'Datetime':(datetime.datetime.now().strftime('%d-%m-%Y %H:%M:%S')),'Log':'Token Set','Check':'OK'}\n",
    "except:\n",
    "    #print the error message that the Token is Not Set\n",
    "    print('Token Not Set')\n",
    "    #log if the token is not set\n",
    "    logger.loc[len(logger)] = {'Datetime':(datetime.datetime.now().strftime('%d-%m-%Y %H:%M:%S')),'Log':'Token Not Set','Check':'NO'}"
   ]
  },
  {
   "cell_type": "code",
   "execution_count": 49,
   "metadata": {},
   "outputs": [],
   "source": [
    "try:\n",
    "    #generate a token url for further generating an access token\n",
    "    temp_url = app_session.generate_token()\n",
    "    #log if the token url is generated\n",
    "    logger.loc[len(logger)] = {'Datetime':(datetime.datetime.now().strftime('%d-%m-%Y %H:%M:%S')),'Log':'Token URL Generated','Check':'OK'}\n",
    "except:\n",
    "    #print the error message that the Token is Not Generated\n",
    "    print('Token Cannot be Generated')\n",
    "    #log if the token is not generated\n",
    "    logger.loc[len(logger)] = {'Datetime':(datetime.datetime.now().strftime('%d-%m-%Y %H:%M:%S')),'Log':'Token URL Not Generated','Check':'NO'}"
   ]
  },
  {
   "cell_type": "code",
   "execution_count": 51,
   "metadata": {
    "scrolled": true
   },
   "outputs": [],
   "source": [
    "try:\n",
    "    #login automation for the token url webpage\n",
    "    driver = webdriver.Safari()\n",
    "    driver.get(temp_url)\n",
    "    driver.find_element_by_xpath(\"//*[@id='fyers_id']\").send_keys(username)\n",
    "    driver.find_element_by_xpath(\"//*[@id='password']\").send_keys(password)\n",
    "    driver.find_element_by_xpath(\"//*[@id='pancard']\").send_keys(pan)\n",
    "    driver.find_element_by_xpath(\"//*[@id='btn_id']\").click()\n",
    "    #sleep in order to complete login process and fetch url with access token\n",
    "    time.sleep(5)\n",
    "    #log if Automated Login is Done\n",
    "    logger.loc[len(logger)] = {'Datetime':(datetime.datetime.now().strftime('%d-%m-%Y %H:%M:%S')),'Log':'Automated Login Done','Check':'OK'}\n",
    "except:\n",
    "    #print the error message if Login Automation was Interrupted\n",
    "    print('Login Automation Breached')\n",
    "    #log if the Login Automation is breached\n",
    "    logger.loc[len(logger)] = {'Datetime':(datetime.datetime.now().strftime('%d-%m-%Y %H:%M:%S')),'Log':'Login Automation Breached','Check':'NO'}"
   ]
  },
  {
   "cell_type": "code",
   "execution_count": 54,
   "metadata": {},
   "outputs": [],
   "source": [
    "try:\n",
    "    #fetch the url of the webpage opened after token url webpage\n",
    "    url = driver.current_url\n",
    "    time.sleep(1)\n",
    "    #fetch the url with access_token\n",
    "    token = driver.current_url\n",
    "    #some cleaning to separate the access token\n",
    "    token = token.split('access_token=')[1]\n",
    "    #log if Access Token is Generated Successfully\n",
    "    logger.loc[len(logger)] = {'Datetime':(datetime.datetime.now().strftime('%d-%m-%Y %H:%M:%S')),'Log':'Access Token Generated Successfully','Check':'OK'}\n",
    "except:\n",
    "    #print the error message if Access Token is Not Generated\n",
    "    print('Access Token Cannot Be Generated')\n",
    "    #log if Access Token is Not Generated\n",
    "    logger.loc[len(logger)] = {'Datetime':(datetime.datetime.now().strftime('%d-%m-%Y %H:%M:%S')),'Log':'Access Token Not Generated','Check':'NO'}"
   ]
  },
  {
   "cell_type": "code",
   "execution_count": 56,
   "metadata": {},
   "outputs": [],
   "source": [
    "try:\n",
    "    #assign is_async to False: to stop some ongoing processes\n",
    "    is_async = False\n",
    "    fyers = fyersModel.FyersModel(is_async)\n",
    "    #log if api is async\n",
    "    logger.loc[len(logger)] = {'Datetime':(datetime.datetime.now().strftime('%d-%m-%Y %H:%M:%S')),'Log':'Asynchronous API Calls','Check':'OK'}\n",
    "except:\n",
    "    #print the error message if api cannot be turned asynchronous\n",
    "    print('Synchronous API Calls')\n",
    "    #log the same\n",
    "    logger.loc[len(logger)] = {'Datetime':(datetime.datetime.now().strftime('%d-%m-%Y %H:%M:%S')),'Log':'Synchronous API Calls','Check':'NO'}"
   ]
  },
  {
   "cell_type": "code",
   "execution_count": 57,
   "metadata": {
    "scrolled": true
   },
   "outputs": [],
   "source": [
    "try:\n",
    "    #get profile details\n",
    "    if fyers.get_profile(token = token)['code'] == 200:\n",
    "        profile_details = pd.DataFrame(fyers.get_profile(token = token)['data'])\n",
    "        #log if the profile is accessible\n",
    "        logger.loc[len(logger)] = {'Datetime':(datetime.datetime.now().strftime('%d-%m-%Y %H:%M:%S')),'Log':'Profile Accessible','Check':'OK'}\n",
    "except:\n",
    "    #if profile not found send the relevant message\n",
    "    print('Profile Not Found LOL')\n",
    "    #log if the profile is not accessible\n",
    "    logger.loc[len(logger)] = {'Datetime':(datetime.datetime.now().strftime('%d-%m-%Y %H:%M:%S')),'Log':'Profile Not Accessible','Check':'NO'}"
   ]
  },
  {
   "cell_type": "code",
   "execution_count": 59,
   "metadata": {
    "scrolled": true
   },
   "outputs": [],
   "source": [
    "try:\n",
    "    #get fund details\n",
    "    if fyers.funds(token = token)['code'] == 200:\n",
    "        fund_details = pd.DataFrame(fyers.funds(token = token)['data']['fund_limit'][-1],index=[0])\n",
    "        fund_details.columns=['Equity','Commodity','ID','Title']\n",
    "        #if funds are found +ve or -ve doesn't matter, log Multimillionaire\n",
    "        logger.loc[len(logger)] = {'Datetime':(datetime.datetime.now().strftime('%d-%m-%Y %H:%M:%S')),'Log':'Multimillionaire','Check':'OK'}\n",
    "    \n",
    "except:\n",
    "    #print the error message if the funds cannot be fetched\n",
    "    print('Funds Not Found LOL')\n",
    "    #log broke if the funds are not found\n",
    "    logger.loc[len(logger)] = {'Datetime':(datetime.datetime.now().strftime('%d-%m-%Y %H:%M:%S')),'Log':'Brook','Check':'NO'}"
   ]
  },
  {
   "cell_type": "code",
   "execution_count": 61,
   "metadata": {},
   "outputs": [
    {
     "name": "stdout",
     "output_type": "stream",
     "text": [
      "No Holding\n"
     ]
    }
   ],
   "source": [
    "try:\n",
    "    #get holdings\n",
    "    if fyers.holdings(token = token)['code'] == 200:\n",
    "        #if holdings not found print no holding\n",
    "        if fyers.holdings(token = token)['data']['holdings'] == []:\n",
    "            print('No Holding')\n",
    "        #else print the holding's\n",
    "        else:\n",
    "            holding_details = pd.DataFrame(fyers.holdings(token = token)['data']['holdings'],index=[0])\n",
    "        #log if this level is working fine\n",
    "        logger.loc[len(logger)] = {'Datetime':(datetime.datetime.now().strftime('%d-%m-%Y %H:%M:%S')),'Log':'Holdings','Check':'OK'}\n",
    "except:\n",
    "    #if some issue in finding holdings print Holdings Not Found\n",
    "    print('Holdings Not Found LOL')\n",
    "    #log if the holdings module isn't found\n",
    "    logger.loc[len(logger)] = {'Datetime':(datetime.datetime.now().strftime('%d-%m-%Y %H:%M:%S')),'Log':'No Holdings','Check':'NO'}"
   ]
  },
  {
   "cell_type": "code",
   "execution_count": 37,
   "metadata": {},
   "outputs": [],
   "source": [
    "#type: #1:Limit Order #2:Market Order #3:Stop Order(SL-M) #4:Stoplimit Order(SL-L)\n",
    "#side: #1:Buy         #-1:Sell\n",
    "#order_type: #CNC:Equity Only #INTRADAY:All Segments #MARGIN:Derivatives Only #CO:Cover Order #BO:Bracket Order"
   ]
  },
  {
   "cell_type": "code",
   "execution_count": 67,
   "metadata": {},
   "outputs": [
    {
     "name": "stdout",
     "output_type": "stream",
     "text": [
      "RMS:808068159701:RATE NOT WITHIN CKT LIMIT\n"
     ]
    }
   ],
   "source": [
    "#required attriutes for giving an order\n",
    "scrip = \"MCX:GOLDPETAL20AUGFUT\"\n",
    "quantity = 1\n",
    "order_type = 1\n",
    "trade_side = 1\n",
    "product_type = \"INTRADAY\"\n",
    "limit_price = 5670\n",
    "logger = logger\n",
    "\n",
    "try:\n",
    "    #send an order\n",
    "    order_punch = fyers.place_orders(token = token,data = {\"symbol\" : scrip,\n",
    "                                                           \"qty\" : quantity,\n",
    "                                                           \"type\" : order_type,\n",
    "                                                           \"side\" : trade_side,\n",
    "                                                           \"productType\" : product_type,\n",
    "                                                           \"limitPrice\" : limit_price,\n",
    "                                                           \"stopPrice\" : 0,\n",
    "                                                           \"disclosedQty\" : 0,\n",
    "                                                           \"validity\" : \"DAY\",\n",
    "                                                           \"offlineOrder\" : \"False\",\n",
    "                                                           \"stopLoss\" : 0,\n",
    "                                                           \"takeProfit\" : 0})\n",
    "    #if the message received (json format) shows the order sumitted then print the same\n",
    "    if order_punch['message'].split('.')[0] == 'Order submitted successfully':\n",
    "        print('Order Submitted')\n",
    "        #log if Order Submitted\n",
    "        logger.loc[len(logger)] = {'Datetime':(datetime.datetime.now().strftime('%d-%m-%Y %H:%M:%S')),'Log':'Order Submitted','Check':'OK'}\n",
    "    else:\n",
    "        #if order not submitted successfully then print the message received (json format)\n",
    "        print(order_punch['message'])\n",
    "        #if Order Not Submitted log the message received while punching the order\n",
    "        logger.loc[len(logger)] = {'Datetime':(datetime.datetime.now().strftime('%d-%m-%Y %H:%M:%S')),'Log':order_punch['message'],'Check':'OK'}\n",
    "\n",
    "except:\n",
    "    #if order not punched\n",
    "    print('Order Cannot Be Punched, Inspection Required')\n",
    "    #if error occurs while punching order, log that the investigation is required (check order module)\n",
    "    logger.loc[len(logger)] = {'Datetime':(datetime.datetime.now().strftime('%d-%m-%Y %H:%M:%S')),'Log':'Order Investigation Required','Check':'NO'}"
   ]
  },
  {
   "cell_type": "code",
   "execution_count": 69,
   "metadata": {},
   "outputs": [
    {
     "name": "stdout",
     "output_type": "stream",
     "text": [
      "Order Not Filled\n"
     ]
    }
   ],
   "source": [
    "try:\n",
    "    #create an orderbook dataframe\n",
    "    orderbook = pd.DataFrame(fyers.orders(token = token)['data']['orderBook'])\n",
    "    \n",
    "    time.sleep(2)\n",
    "    \n",
    "    #find the order number for last order punched and match with the orderbook\n",
    "    filtered_order = orderbook[orderbook['orderNumStatus'] == (order_punch['message'].split(':')[1]+':5')]    \n",
    "    \n",
    "    #if the order quantity sent along and filled quantity are same, print order filled\n",
    "    if int(filtered_order['qty']) == int(filtered_order['filledQty']):\n",
    "        print('Order Filled')\n",
    "        #log if the Order is Filled\n",
    "        logger.loc[len(logger)] = {'Datetime':(datetime.datetime.now().strftime('%d-%m-%Y %H:%M:%S')),'Log':'Order Filled','Check':'OK'}\n",
    "    else:\n",
    "        #if the order quantity sent along and filled quantity are not same, print order not filled\n",
    "        print('Order Not Filled')\n",
    "        #log if the order not filled\n",
    "        logger.loc[len(logger)] = {'Datetime':(datetime.datetime.now().strftime('%d-%m-%Y %H:%M:%S')),'Log':'Order Not Filled','Check':'OK'}        \n",
    "except:\n",
    "    #if any error occurs in the above module print and log the order punching issue\n",
    "    print('Order Punching Issue')\n",
    "    logger.loc[len(logger)] = {'Datetime':(datetime.datetime.now().strftime('%d-%m-%Y %H:%M:%S')),'Log':'Order Punched','Check':'NO'}"
   ]
  },
  {
   "cell_type": "code",
   "execution_count": 40,
   "metadata": {
    "scrolled": true
   },
   "outputs": [
    {
     "data": {
      "text/html": [
       "<div>\n",
       "<style scoped>\n",
       "    .dataframe tbody tr th:only-of-type {\n",
       "        vertical-align: middle;\n",
       "    }\n",
       "\n",
       "    .dataframe tbody tr th {\n",
       "        vertical-align: top;\n",
       "    }\n",
       "\n",
       "    .dataframe thead th {\n",
       "        text-align: right;\n",
       "    }\n",
       "</style>\n",
       "<table border=\"1\" class=\"dataframe\">\n",
       "  <thead>\n",
       "    <tr style=\"text-align: right;\">\n",
       "      <th></th>\n",
       "      <th>Datetime</th>\n",
       "      <th>Log</th>\n",
       "      <th>Check</th>\n",
       "    </tr>\n",
       "  </thead>\n",
       "  <tbody>\n",
       "    <tr>\n",
       "      <th>0</th>\n",
       "      <td>06-08-2020 21:24:36</td>\n",
       "      <td>Authorization Code Generated</td>\n",
       "      <td>OK</td>\n",
       "    </tr>\n",
       "    <tr>\n",
       "      <th>1</th>\n",
       "      <td>06-08-2020 21:24:36</td>\n",
       "      <td>Token Set</td>\n",
       "      <td>OK</td>\n",
       "    </tr>\n",
       "    <tr>\n",
       "      <th>2</th>\n",
       "      <td>06-08-2020 21:24:36</td>\n",
       "      <td>Token URL Generated</td>\n",
       "      <td>OK</td>\n",
       "    </tr>\n",
       "    <tr>\n",
       "      <th>3</th>\n",
       "      <td>06-08-2020 21:24:48</td>\n",
       "      <td>Automated Login Done</td>\n",
       "      <td>OK</td>\n",
       "    </tr>\n",
       "    <tr>\n",
       "      <th>4</th>\n",
       "      <td>06-08-2020 21:24:49</td>\n",
       "      <td>Access Token Generated Successfully</td>\n",
       "      <td>OK</td>\n",
       "    </tr>\n",
       "    <tr>\n",
       "      <th>5</th>\n",
       "      <td>06-08-2020 21:24:49</td>\n",
       "      <td>Asynchronous API Calls</td>\n",
       "      <td>OK</td>\n",
       "    </tr>\n",
       "    <tr>\n",
       "      <th>6</th>\n",
       "      <td>06-08-2020 21:24:49</td>\n",
       "      <td>Profile Accessible</td>\n",
       "      <td>OK</td>\n",
       "    </tr>\n",
       "    <tr>\n",
       "      <th>7</th>\n",
       "      <td>06-08-2020 21:24:50</td>\n",
       "      <td>Multimillionaire</td>\n",
       "      <td>OK</td>\n",
       "    </tr>\n",
       "    <tr>\n",
       "      <th>8</th>\n",
       "      <td>06-08-2020 21:24:50</td>\n",
       "      <td>Holdings</td>\n",
       "      <td>OK</td>\n",
       "    </tr>\n",
       "    <tr>\n",
       "      <th>9</th>\n",
       "      <td>06-08-2020 21:24:51</td>\n",
       "      <td>System is not connected to NSE Equity market</td>\n",
       "      <td>OK</td>\n",
       "    </tr>\n",
       "    <tr>\n",
       "      <th>10</th>\n",
       "      <td>06-08-2020 21:24:56</td>\n",
       "      <td>Order Not Punched</td>\n",
       "      <td>NO</td>\n",
       "    </tr>\n",
       "  </tbody>\n",
       "</table>\n",
       "</div>"
      ],
      "text/plain": [
       "               Datetime                                           Log Check\n",
       "0   06-08-2020 21:24:36                  Authorization Code Generated    OK\n",
       "1   06-08-2020 21:24:36                                     Token Set    OK\n",
       "2   06-08-2020 21:24:36                           Token URL Generated    OK\n",
       "3   06-08-2020 21:24:48                          Automated Login Done    OK\n",
       "4   06-08-2020 21:24:49           Access Token Generated Successfully    OK\n",
       "5   06-08-2020 21:24:49                        Asynchronous API Calls    OK\n",
       "6   06-08-2020 21:24:49                            Profile Accessible    OK\n",
       "7   06-08-2020 21:24:50                              Multimillionaire    OK\n",
       "8   06-08-2020 21:24:50                                      Holdings    OK\n",
       "9   06-08-2020 21:24:51  System is not connected to NSE Equity market    OK\n",
       "10  06-08-2020 21:24:56                             Order Not Punched    NO"
      ]
     },
     "execution_count": 40,
     "metadata": {},
     "output_type": "execute_result"
    }
   ],
   "source": [
    "logger"
   ]
  },
  {
   "cell_type": "markdown",
   "metadata": {},
   "source": [
    "### Highlight The Exceptions ('NO')"
   ]
  },
  {
   "cell_type": "code",
   "execution_count": 41,
   "metadata": {},
   "outputs": [],
   "source": [
    "#function to highlight any of the NO checks in the log\n",
    "def highlight_no(series):\n",
    "\n",
    "    #is_no will go through each column and find for 'NO' message\n",
    "    is_no = series == 'NO'\n",
    "    #if 'NO' message found highlight the cell in red color\n",
    "    return ['background: red' if i else '' for i in is_no] \n",
    "\n",
    "#apply the conditional formatting from the function highlight_no\n",
    "logger = logger.style.apply(highlight_no)\n",
    "\n",
    "#export the file in png format\n",
    "dfi.export(logger,'logger.png')"
   ]
  },
  {
   "cell_type": "markdown",
   "metadata": {},
   "source": [
    "### Save the DF in PNG Format"
   ]
  },
  {
   "cell_type": "code",
   "execution_count": 42,
   "metadata": {
    "scrolled": true
   },
   "outputs": [
    {
     "data": {
      "text/plain": [
       "<matplotlib.image.AxesImage at 0x7faf1c8cc310>"
      ]
     },
     "execution_count": 42,
     "metadata": {},
     "output_type": "execute_result"
    },
    {
     "data": {
      "image/png": "[encoded data removed]",
      "text/plain": [
       "<Figure size 432x288 with 1 Axes>"
      ]
     },
     "metadata": {
      "needs_background": "light"
     },
     "output_type": "display_data"
    }
   ],
   "source": [
    "#read image\n",
    "image = mpimg.imread('logger.png') \n",
    "#output the above read image\n",
    "plt.imshow(image) "
   ]
  },
  {
   "cell_type": "markdown",
   "metadata": {},
   "source": [
    "### Send the PNG Image to the Telegram Channel"
   ]
  },
  {
   "cell_type": "code",
   "execution_count": 80,
   "metadata": {},
   "outputs": [
    {
     "data": {
      "text/plain": [
       "<telegram.message.Message at 0x7faf09f4bbd0>"
      ]
     },
     "execution_count": 80,
     "metadata": {},
     "output_type": "execute_result"
    }
   ],
   "source": [
    "#send the image to the telegram channel through bot\n",
    "telegram_infrastructure.bot.send_photo('<your channel name>',photo = open('logger.png','rb'))"
   ]
  }
 ],
 "metadata": {
  "kernelspec": {
   "display_name": "Python 3",
   "language": "python",
   "name": "python3"
  },
  "language_info": {
   "codemirror_mode": {
    "name": "ipython",
    "version": 3
   },
   "file_extension": ".py",
   "mimetype": "text/x-python",
   "name": "python",
   "nbconvert_exporter": "python",
   "pygments_lexer": "ipython3",
   "version": "3.7.6"
  }
 },
 "nbformat": 4,
 "nbformat_minor": 4
}
